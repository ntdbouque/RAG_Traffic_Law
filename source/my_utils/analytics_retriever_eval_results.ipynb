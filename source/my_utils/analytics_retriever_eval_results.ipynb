{
 "cells": [
  {
   "cell_type": "markdown",
   "id": "50c09cf8",
   "metadata": {},
   "source": [
    "### Filter retrieval result with mrr <1"
   ]
  },
  {
   "cell_type": "code",
   "execution_count": 3,
   "id": "eef571fe",
   "metadata": {},
   "outputs": [
    {
     "name": "stdout",
     "output_type": "stream",
     "text": [
      "Đã lọc và lưu 70 bản ghi có MRR < 0.5 vào 'filtered_output.json'\n"
     ]
    }
   ],
   "source": [
    "import json\n",
    "\n",
    "# Đọc file JSON gốc\n",
    "with open(\"/workspace/competitions/Sly/Duy_NCKH_2025/data/retrieval_evaluation/qa_results.json\", \"r\", encoding=\"utf-8\") as f:\n",
    "    data = json.load(f)\n",
    "\n",
    "filtered_data = [item for item in data if item['score'] < 0.25]\n",
    "# Ghi vào file mới\n",
    "with open(\"filtered_output.json\", \"w\", encoding=\"utf-8\") as f:\n",
    "    json.dump(filtered_data, f, indent=2, ensure_ascii=False)\n",
    "\n",
    "print(f\"Đã lọc và lưu {len(filtered_data)} bản ghi có MRR < 0.5 vào 'filtered_output.json'\")\n"
   ]
  },
  {
   "cell_type": "code",
   "execution_count": null,
   "id": "f9254475",
   "metadata": {},
   "outputs": [],
   "source": []
  }
 ],
 "metadata": {
  "kernelspec": {
   "display_name": "traffic_law",
   "language": "python",
   "name": "python3"
  },
  "language_info": {
   "codemirror_mode": {
    "name": "ipython",
    "version": 3
   },
   "file_extension": ".py",
   "mimetype": "text/x-python",
   "name": "python",
   "nbconvert_exporter": "python",
   "pygments_lexer": "ipython3",
   "version": "3.10.17"
  }
 },
 "nbformat": 4,
 "nbformat_minor": 5
}
