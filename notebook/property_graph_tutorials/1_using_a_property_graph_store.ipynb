{
 "cells": [
  {
   "cell_type": "markdown",
   "id": "46217c40",
   "metadata": {},
   "source": [
    "### Set up"
   ]
  },
  {
   "cell_type": "code",
   "execution_count": 1,
   "id": "12ae951e",
   "metadata": {},
   "outputs": [],
   "source": [
    "from llama_index.graph_stores.neo4j import Neo4jPropertyGraphStore\n",
    "\n",
    "pg_store = Neo4jPropertyGraphStore(\n",
    "    username='neo4j',\n",
    "    password='llamaindex',\n",
    "    url=\"bolt://localhost:7688\",\n",
    ")"
   ]
  },
  {
   "cell_type": "markdown",
   "id": "0c5d7cb1",
   "metadata": {},
   "source": [
    "### Inserting:\n",
    "- Now that we have a store initialized, we can put something in its\n",
    "- Inserting into a property graph store consist of inserting nodes\n",
    "    - EntityNode: containing some labeled person, place or thing\n",
    "    - ChunkNode: containing some source text that an entity or relation came from\n",
    "- And inserting `Relation`s (linking multiple nodes) "
   ]
  },
  {
   "cell_type": "code",
   "execution_count": 2,
   "id": "1f491673",
   "metadata": {},
   "outputs": [],
   "source": [
    "from llama_index.core.graph_stores.types import EntityNode, ChunkNode, Relation\n",
    "\n",
    "entity1 = EntityNode(label=\"PERSON\", name='Logan', properties={'age':28})\n",
    "entity2 = EntityNode(label=\"ORGANIZATION\", name='LlamaIndex')\n",
    "\n",
    "relation = Relation(\n",
    "    label='WORKS_FOR',\n",
    "    source_id=entity1.id,\n",
    "    target_id=entity2.id,\n",
    "    properties={\"since\": 2023}\n",
    ")"
   ]
  },
  {
   "cell_type": "markdown",
   "id": "632c24a0",
   "metadata": {},
   "source": [
    "With some entities and relation defined, we can insert them"
   ]
  },
  {
   "cell_type": "code",
   "execution_count": 3,
   "id": "d5683235",
   "metadata": {},
   "outputs": [],
   "source": [
    "pg_store.upsert_nodes([entity1, entity2])\n",
    "pg_store.upsert_relations([relation])"
   ]
  },
  {
   "cell_type": "markdown",
   "id": "963129ea",
   "metadata": {},
   "source": [
    "And if you wanted, we could also define a text chunk that these came from"
   ]
  },
  {
   "cell_type": "code",
   "execution_count": 5,
   "id": "395c5403",
   "metadata": {},
   "outputs": [],
   "source": [
    "from llama_index.core.schema import TextNode\n",
    "\n",
    "source_node = TextNode(text='Logan (age 28), works for LlamaIndex since 2023')\n",
    "relations = [\n",
    "    Relation(\n",
    "        label='MENTIONS',\n",
    "        source_id=source_node.node_id,\n",
    "        target_id=entity1.id\n",
    "    ),\n",
    "    Relation(\n",
    "        label='MENTIONS',\n",
    "        source_id=source_node.node_id,\n",
    "        target_id=entity2.id\n",
    "    )\n",
    "]\n",
    "\n",
    "pg_store.upsert_llama_nodes([source_node])\n",
    "pg_store.upsert_relations(relations)"
   ]
  },
  {
   "cell_type": "markdown",
   "id": "4714f680",
   "metadata": {},
   "source": [
    "### Retrieving:"
   ]
  },
  {
   "cell_type": "markdown",
   "id": "130bf021",
   "metadata": {},
   "source": [
    "Now that our graph is populated with some nodes and relations, we can access some of the retrieval function!"
   ]
  },
  {
   "cell_type": "code",
   "execution_count": 6,
   "id": "5e8e689e",
   "metadata": {},
   "outputs": [
    {
     "name": "stdout",
     "output_type": "stream",
     "text": [
      "[EntityNode(label='__Node__', embedding=None, properties={'age': 28, 'name': 'Logan'}, name='Logan')]\n"
     ]
    }
   ],
   "source": [
    "# get a node\n",
    "kg_nodes = pg_store.get(ids=[entity1.id])\n",
    "print(kg_nodes)\n"
   ]
  },
  {
   "cell_type": "code",
   "execution_count": 7,
   "id": "f8f81bd6",
   "metadata": {},
   "outputs": [
    {
     "name": "stdout",
     "output_type": "stream",
     "text": [
      "[EntityNode(label='__Node__', embedding=None, properties={'age': 28, 'name': 'Logan'}, name='Logan')]\n"
     ]
    }
   ],
   "source": [
    "# get using properties\n",
    "kg_nodes = pg_store.get(properties={'age': 28})\n",
    "print(kg_nodes)"
   ]
  },
  {
   "cell_type": "code",
   "execution_count": 8,
   "id": "f8c3d65b",
   "metadata": {},
   "outputs": [
    {
     "name": "stdout",
     "output_type": "stream",
     "text": [
      "Logan -> WORKS_FOR -> LlamaIndex\n"
     ]
    }
   ],
   "source": [
    "# get paths from a node\n",
    "paths = pg_store.get_rel_map(kg_nodes, depth=1)\n",
    "for path in paths:\n",
    "    print(f'{path[0].id} -> {path[1].id} -> {path[2].id}')"
   ]
  },
  {
   "cell_type": "code",
   "execution_count": 9,
   "id": "604f5923",
   "metadata": {},
   "outputs": [
    {
     "name": "stdout",
     "output_type": "stream",
     "text": [
      "[{'n': {'name': 'Logan', 'id': 'Logan', 'age': 28}}, {'n': {'name': 'LlamaIndex', 'id': 'LlamaIndex'}}]\n"
     ]
    }
   ],
   "source": [
    "# Run a cypher query (this will get all entity nodes)\n",
    "query = \"match (n: `__Entity__`) return n\"\n",
    "result = pg_store.structured_query(query)\n",
    "print(result)"
   ]
  },
  {
   "cell_type": "code",
   "execution_count": 11,
   "id": "848dcf76",
   "metadata": {},
   "outputs": [
    {
     "name": "stdout",
     "output_type": "stream",
     "text": [
      "Logan (age 28), works for LlamaIndex since 2023\n"
     ]
    }
   ],
   "source": [
    "# get the original text node back\n",
    "llama_nodes = pg_store.get_llama_nodes([source_node.node_id])\n",
    "print(llama_nodes[0].text)"
   ]
  },
  {
   "cell_type": "markdown",
   "id": "a19e13dd",
   "metadata": {},
   "source": [
    "### Upserting"
   ]
  },
  {
   "cell_type": "markdown",
   "id": "38b5a489",
   "metadata": {},
   "source": [
    "You may have notices that all the insert operations are actually upserts! As long as the ID of the node is the same, we can avoid duplicating data \\\n",
    "Lets update a node"
   ]
  },
  {
   "cell_type": "code",
   "execution_count": 12,
   "id": "46bab71b",
   "metadata": {},
   "outputs": [],
   "source": [
    "new_node = EntityNode(\n",
    "    label='PERSON', name='Logan', properties={\"age\":28, \"location\": 'Canada'}\n",
    ")\n",
    "pg_store.upsert_nodes([new_node])"
   ]
  },
  {
   "cell_type": "code",
   "execution_count": 13,
   "id": "0820946d",
   "metadata": {},
   "outputs": [
    {
     "name": "stdout",
     "output_type": "stream",
     "text": [
      "[EntityNode(label='__Node__', embedding=None, properties={'location': 'Canada', 'age': 28, 'name': 'Logan'}, name='Logan')]\n"
     ]
    }
   ],
   "source": [
    "nodes = pg_store.get(properties={\"age\": 28})\n",
    "print(nodes)"
   ]
  },
  {
   "cell_type": "markdown",
   "id": "b2371316",
   "metadata": {},
   "source": [
    "### Deleting:\n",
    "Deletion works similar to get(), with both IDS and properties \\\n",
    "Lets clean up our graph for a fresh start"
   ]
  },
  {
   "cell_type": "code",
   "execution_count": 14,
   "id": "43d02f65",
   "metadata": {},
   "outputs": [],
   "source": [
    "# delete our entities\n",
    "pg_store.delete(ids=[entity1.id, entity2.id])\n",
    "\n",
    "# delete our text nodes\n",
    "pg_store.delete([source_node.node_id])\n"
   ]
  },
  {
   "cell_type": "code",
   "execution_count": 15,
   "id": "f04ebf56",
   "metadata": {},
   "outputs": [],
   "source": [
    "# delete our entities\n",
    "pg_store.delete(ids=[entity1.id, entity2.id])\n",
    "\n",
    "# delete our text nodes\n",
    "pg_store.delete([source_node.node_id])"
   ]
  }
 ],
 "metadata": {
  "kernelspec": {
   "display_name": "duy_property_graph_neoj4",
   "language": "python",
   "name": "python3"
  },
  "language_info": {
   "codemirror_mode": {
    "name": "ipython",
    "version": 3
   },
   "file_extension": ".py",
   "mimetype": "text/x-python",
   "name": "python",
   "nbconvert_exporter": "python",
   "pygments_lexer": "ipython3",
   "version": "3.10.18"
  }
 },
 "nbformat": 4,
 "nbformat_minor": 5
}
