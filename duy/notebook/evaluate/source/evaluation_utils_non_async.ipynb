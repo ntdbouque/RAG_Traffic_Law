{
 "cells": [
  {
   "cell_type": "markdown",
   "id": "071fe31b",
   "metadata": {},
   "source": [
    "### Generate query - reference context pairs:"
   ]
  },
  {
   "cell_type": "code",
   "execution_count": 1,
   "id": "2d9c68ca",
   "metadata": {},
   "outputs": [
    {
     "data": {
      "text/plain": [
       "True"
      ]
     },
     "execution_count": 1,
     "metadata": {},
     "output_type": "execute_result"
    }
   ],
   "source": [
    "import os\n",
    "import sys\n",
    "from pathlib import Path\n",
    "import uuid\n",
    "from tqdm import tqdm\n",
    "from typing import List\n",
    "import pandas as pd\n",
    "import re\n",
    "import json\n",
    "from dotenv import load_dotenv\n",
    "sys.path.append(str(Path.cwd().parent.parent))\n",
    "\n",
    "from llama_index.core import Document \n",
    "from llama_index.core import Settings\n",
    "from llama_index.llms.openai import OpenAI\n",
    "from llama_index.core.schema import MetadataMode, TextNode\n",
    "from qdrant_client import QdrantClient\n",
    "\n",
    "load_dotenv(override=True)"
   ]
  },
  {
   "cell_type": "code",
   "execution_count": 2,
   "id": "52dc76e5",
   "metadata": {},
   "outputs": [],
   "source": [
    "# A customized prompts:\n",
    "QUERY_REFERENCE_CONTEXTS_PAIRS_PROMPT = \"\"\"\\\n",
    "Thông tin ngữ cảnh được cung cấp dưới đây.\n",
    "\n",
    "---------------------\n",
    "{context_str}\n",
    "---------------------\n",
    "  \n",
    "Dựa vào thông tin trong phần context, không sử dụng kiến thức bên ngoài.\n",
    "\n",
    "Bạn đang đóng vai là một chuyên viên tư vấn pháp luật, có nhiệm vụ hỗ trợ người dân Việt Nam hiểu rõ hơn về luật giao thông đường bộ.\n",
    "\n",
    "Hãy đặt ra {num_questions_per_chunk} câu hỏi mà người dân có thể quan tâm hoặc thường đặt ra khi tiếp cận nội dung này.  \n",
    "Câu hỏi cần rõ ràng, dễ hiểu, phản ánh thắc mắc thực tế của người dân về quy định, quyền lợi, nghĩa vụ hoặc cách áp dụng luật.\n",
    "\n",
    "Yêu cầu về văn phong:\n",
    "- Câu hỏi nên có giọng điệu kết hợp giữa ngôn ngữ đời thường (gần gũi, dễ tiếp cận) và cách diễn đạt chính xác, trang trọng khi cần.\n",
    "- Ví dụ:  \n",
    "  - \"Nếu mình chở hàng nguy hiểm mà không có giấy phép thì bị sao vậy?\"  \n",
    "  - \"Cá nhân vi phạm quy định về tốc độ tối đa sẽ bị xử phạt như thế nào theo điều luật này?\"\n",
    "\n",
    "Chỉ đặt câu hỏi dựa trên nội dung được cung cấp, không dùng kiến thức bên ngoài.\n",
    "\"\"\"\n"
   ]
  },
  {
   "cell_type": "code",
   "execution_count": 3,
   "id": "7d54c9aa",
   "metadata": {},
   "outputs": [],
   "source": [
    "def get_nodes_from_collection(collection_name: str):\n",
    "    '''\n",
    "    Get all nodes from a qdrant collection\n",
    "    Args:\n",
    "        collection_name: a qdrant collection name\n",
    "    '''\n",
    "    client = QdrantClient(url=\"http://localhost:6333\")\n",
    "\n",
    "    qdrant_nodes, _ = client.scroll(\n",
    "        collection_name=\"contextual_rag_nckh\",\n",
    "        limit=1489\n",
    "    )\n",
    "    nodes = []\n",
    "    for node in qdrant_nodes:\n",
    "        nodes.append(TextNode(text=node.payload['text'], id_=node.id))\n",
    "    return nodes"
   ]
  },
  {
   "cell_type": "code",
   "execution_count": 4,
   "id": "686ed184",
   "metadata": {},
   "outputs": [
    {
     "name": "stderr",
     "output_type": "stream",
     "text": [
      "/tmp/ipykernel_301632/1079936399.py:7: UserWarning: Qdrant client version 1.13.3 is incompatible with server version 1.11.3. Major versions should match and minor version difference must not exceed 1. Set check_version=False to skip version check.\n",
      "  client = QdrantClient(url=\"http://localhost:6333\")\n"
     ]
    }
   ],
   "source": [
    "nodes = get_nodes_from_collection('contextual_rag_nckh')"
   ]
  },
  {
   "cell_type": "code",
   "execution_count": 24,
   "id": "43380c1a",
   "metadata": {},
   "outputs": [],
   "source": [
    "def generate_query_ref_context_pairs(\n",
    "    nodes: List[TextNode],\n",
    "    prompt: str = QUERY_REFERENCE_CONTEXTS_PAIRS_PROMPT,\n",
    "    num_question: int = 2,\n",
    "    output_path: str = \"query_ref_context_pairs.json\"\n",
    ") -> None:\n",
    "    '''\n",
    "    Generate query-reference contexts pairs with customized prompts.\n",
    "\n",
    "    Args:\n",
    "        nodes (List[TextNode]): list of LlamaIndex nodes\n",
    "        prompt (str): instruction prompt that simulates user request\n",
    "        num_question (int): number of questions per context\n",
    "        output_path (str): file path to save the results in JSON\n",
    "    '''\n",
    "\n",
    "    llm = OpenAI(\n",
    "        model='gpt-4o-mini',\n",
    "        api_key=os.getenv('OPENAI_API_KEY')\n",
    "    )\n",
    "    Settings.llm = llm\n",
    "\n",
    "    node_dict = {\n",
    "        node.node_id: node.get_content(metadata_mode=MetadataMode.NONE)\n",
    "        for node in nodes\n",
    "    }\n",
    "\n",
    "    queries = {}\n",
    "    relevant_ids = {}\n",
    "    relevant_texts = {}\n",
    "\n",
    "    for node_id, text in tqdm(node_dict.items()):\n",
    "        query_prompt = prompt.format(\n",
    "            context_str=text,\n",
    "            num_questions_per_chunk=num_question\n",
    "        )\n",
    "        response = llm.complete(query_prompt)\n",
    "        result = str(response).strip().split(\"\\n\")\n",
    "        questions = [re.sub(r\"^\\d+[\\).\\s]*\", \"\", question).strip() for question in result if question.strip()]\n",
    "        for question in questions:\n",
    "            question_id = str(uuid.uuid4())\n",
    "            queries[question_id] = question\n",
    "            relevant_ids[question_id] = [node_id]\n",
    "            relevant_texts[question_id] = [text]\n",
    "\n",
    "    # Gộp lại và ghi ra file JSON\n",
    "    output_data = [\n",
    "        {\n",
    "            \"question_id\": qid,\n",
    "            \"question\": queries[qid],\n",
    "            \"relevant_node_ids\": relevant_ids[qid],\n",
    "            \"relevant_node_text\": relevant_texts[qid]\n",
    "        }\n",
    "        for qid in queries\n",
    "    ]\n",
    "\n",
    "    with open(output_path, \"w\", encoding=\"utf-8\") as f:\n",
    "        json.dump(output_data, f, ensure_ascii=False, indent=2)\n",
    "\n",
    "    print(f\">>> Saved {len(output_data)} query-reference pairs to {output_path}\")\n"
   ]
  },
  {
   "cell_type": "code",
   "execution_count": 25,
   "id": "ab63de57",
   "metadata": {},
   "outputs": [
    {
     "name": "stderr",
     "output_type": "stream",
     "text": [
      "100%|██████████| 1489/1489 [49:00<00:00,  1.98s/it] \n"
     ]
    },
    {
     "name": "stdout",
     "output_type": "stream",
     "text": [
      ">>> Saved 2978 query-reference pairs to query_ref_context_pairs.json\n"
     ]
    }
   ],
   "source": [
    "generate_query_ref_context_pairs(nodes)"
   ]
  },
  {
   "cell_type": "markdown",
   "id": "1b54bc42",
   "metadata": {},
   "source": [
    "### MRR Metrics:"
   ]
  },
  {
   "cell_type": "markdown",
   "id": "16c71f16",
   "metadata": {},
   "source": [
    "##### Custom retrieval:"
   ]
  },
  {
   "cell_type": "code",
   "execution_count": 5,
   "id": "c8a70000",
   "metadata": {},
   "outputs": [],
   "source": [
    "from llama_index.vector_stores.qdrant import QdrantVectorStore\n",
    "from qdrant_client import QdrantClient\n",
    "from llama_index.llms.openai import OpenAI\n",
    "from llama_index.postprocessor.rankgpt_rerank import RankGPTRerank\n",
    "from llama_index.embeddings.openai import OpenAIEmbedding\n",
    "from llama_index.core.retrievers import VectorIndexRetriever\n",
    "from llama_index.core.query_engine import RetrieverQueryEngine\n",
    "from llama_index.core import (\n",
    "    Settings,\n",
    "    Document,\n",
    "    QueryBundle,\n",
    "    StorageContext,\n",
    "    VectorStoreIndex,\n",
    ")\n",
    "\n",
    "import nest_asyncio\n",
    "nest_asyncio.apply()\n"
   ]
  },
  {
   "cell_type": "code",
   "execution_count": 6,
   "id": "aabb09cc",
   "metadata": {},
   "outputs": [
    {
     "name": "stderr",
     "output_type": "stream",
     "text": [
      "/tmp/ipykernel_301632/352016665.py:9: UserWarning: Qdrant client version 1.13.3 is incompatible with server version 1.11.3. Major versions should match and minor version difference must not exceed 1. Set check_version=False to skip version check.\n",
      "  qdrant_client = QdrantClient(\n"
     ]
    }
   ],
   "source": [
    "# Init Êmbedding Model:\n",
    "embed_model = OpenAIEmbedding(model='text-embedding-3-large', api_key=os.getenv('OPENAI_API_KEY'))\n",
    "Settings.embed_model = embed_model\n",
    "llm = OpenAI(model='gpt-4o-mini', api_key=os.getenv('OPENAI_API_KEY'))\n",
    "Settings.llm = llm\n",
    "\n",
    "\n",
    "# some  pre-init\n",
    "qdrant_client = QdrantClient(\n",
    "            url = 'http://localhost:6333'\n",
    "        )\n",
    "\n",
    "vector_store = QdrantVectorStore(client=qdrant_client, collection_name='contextual_rag_nckh')\n",
    "storage_context = StorageContext.from_defaults(vector_store=vector_store)\n",
    "qdrant_index = VectorStoreIndex.from_vector_store(\n",
    "    vector_store=vector_store, \n",
    "    storage_context=storage_context,\n",
    "    use_async=True)\n",
    "    \n",
    "retriever = VectorIndexRetriever(\n",
    "            index=qdrant_index,\n",
    "            similarity_top_k = 10,\n",
    "            use_async = True\n",
    "        )\n",
    "# Initialize reranker\n",
    "reranker_gpt = RankGPTRerank(\n",
    "    llm=OpenAI(\n",
    "        model=\"gpt-4o-mini\",\n",
    "        temperature=0.0,\n",
    "        api_key=os.getenv('OPENAI_API_KEY'),\n",
    "    ),\n",
    "    top_n=3,\n",
    "    verbose=True,\n",
    ")\n",
    "\n",
    "# Initialize retriever\n",
    "query_engine = RetrieverQueryEngine(retriever=retriever, node_postprocessors=[reranker_gpt])"
   ]
  },
  {
   "cell_type": "code",
   "execution_count": 7,
   "id": "0dad81f3",
   "metadata": {},
   "outputs": [],
   "source": [
    "def retrieve_top_k_documents(query):\n",
    "    '''\n",
    "    Search the query with the contextual RAG\n",
    "    \n",
    "    Args:\n",
    "        query (str): The query string\n",
    "        k (int): The number of documents to return  \n",
    "    ''' \n",
    "    \n",
    "    semantic_results = query_engine.query(query)\n",
    "\n",
    "    return semantic_results.source_nodes\n"
   ]
  },
  {
   "cell_type": "code",
   "execution_count": 8,
   "id": "35a178da",
   "metadata": {},
   "outputs": [
    {
     "name": "stdout",
     "output_type": "stream",
     "text": [
      "After Reranking, new rank list for nodes: [0, 1, 4, 3, 2, 6, 9, 8, 7, 5]"
     ]
    },
    {
     "data": {
      "text/plain": [
       "[NodeWithScore(node=TextNode(id_='0014e974-14a9-4ec5-895b-a8cf57914cc4', embedding=None, metadata={'chapter_uuid': '', 'original_content': 'Trước khi đưa công trình đường bộ vào khai thác, chủ đầu tư có trách nhiệm: a) Lựa chọn tổ chức kinh doanh dịch vụ thẩm tra an toàn giao thông đủ điều kiện để thực hiện thẩm tra an toàn giao thông; b) Thực hiện thẩm định an toàn giao thông trên cơ sở báo cáo thẩm tra an toàn giao thông của tổ chức tư vấn thẩm tra an toàn giao thông.', 'article_uuid': '0014e974-14a9-4ec5-895b-a8cf57914cc4', 'khoan': 'khoản 2', 'dieu': 'Điều 32. Thẩm tra, thẩm định an toàn giao thông đường bộ', 'chuong': 'Chương V THẨM TRA, THẨM ĐỊNH AN TOÀN GIAO THÔNG ĐƯỜNG BỘ, ĐÀO TẠO THẨM TRA AN TOÀN GIAO THÔNG ĐƯỜNG BỘ', 'luat': 'Nghị định 165/2024/NĐ-CP hướng dẫn Luật Đường bộ và Điều 77 Luật Trật tự an toàn giao thông đường bộ'}, excluded_embed_metadata_keys=[], excluded_llm_metadata_keys=[], relationships={}, text='Nội dung tại Điều 32 trong Nghị định 165/2024/NĐ-CP quy định về quy trình thẩm tra, thẩm định an toàn giao thông đường bộ trước khi đưa công trình vào khai thác, nhằm đảm bảo an toàn cho người tham gia giao thông. Điều này được đặt trong bối cảnh của Chương V, nơi tập trung vào việc thiết lập các tiêu chuẩn và quy định liên quan đến an toàn giao thông đường bộ và đào tạo các chuyên gia thẩm tra.\\nTrước khi đưa công trình đường bộ vào khai thác, chủ đầu tư có trách nhiệm: a) Lựa chọn tổ chức kinh doanh dịch vụ thẩm tra an toàn giao thông đủ điều kiện để thực hiện thẩm tra an toàn giao thông; b) Thực hiện thẩm định an toàn giao thông trên cơ sở báo cáo thẩm tra an toàn giao thông của tổ chức tư vấn thẩm tra an toàn giao thông.', mimetype='text/plain', start_char_idx=None, end_char_idx=None, text_template='{metadata_str}\\n\\n{content}', metadata_template='{key}: {value}', metadata_seperator='\\n'), score=0.672381),\n",
       " NodeWithScore(node=TextNode(id_='8c42c2de-27f2-49c5-ac2d-fd0264f31d65', embedding=None, metadata={'chapter_uuid': '', 'original_content': 'Việc thẩm tra, thẩm định an toàn giao thông đường bộ thực hiện theo quy định tại Điều 29 Luật Đường bộ, Điều 33, Điều 34 của Nghị định này và các quy định sau: 1. Trong giai đoạn lập dự án đầu tư, thiết kế triển khai sau thiết kế cơ sở, việc thẩm tra, thẩm định an toàn giao thông đường bộ được thực hiện cùng công tác thẩm tra, thẩm định báo cáo nghiên cứu khả thi, thiết kế xây dựng và các quy định sau: a) Chủ đầu tư dự án có trách nhiệm lựa chọn tổ chức kinh doanh dịch vụ thẩm tra an toàn giao thông đủ điều kiện để thực hiện thẩm tra an toàn giao thông trong giai đoạn lập dự án đầu tư, thiết kế triển khai sau thiết kế cơ sở. Trường hợp thuê tư vấn thẩm tra dự án, thiết kế triển khai sau thiết kế cơ sở mà tư vấn thẩm tra dự án, thiết kế có đủ điều kiện năng lực về thẩm tra an toàn giao thông đường bộ thì có thể được lựa chọn để thực hiện thẩm tra an toàn giao thông dự án, thiết kế triển khai sau thiết kế cơ sở. b) Người có thẩm quyền quyết định phê duyệt dự án đầu tư, duyệt thiết kế thực hiện thẩm định an toàn giao thông trên cơ sở báo cáo thẩm tra an toàn giao thông của tổ chức tư vấn thẩm tra an toàn giao thông cùng với công tác thẩm định dự án đầu tư xây dựng công trình đường bộ, thẩm định thiết kế công trình đường bộ triển khai sau thiết kế cơ sở để điều chỉnh, bổ sung các hạng mục liên quan đến an toàn giao thông vào dự án, thiết kế triển khai sau thiết kế cơ sở. Đối với trường hợp dự án đầu tư xây dựng công trình đường bộ do Thủ tướng Chính phủ quyết định phê duyệt dự án đầu tư, Bộ Giao thông vận tải thực hiện thẩm định an toàn giao thông trong giai đoạn lập dự án đầu tư trên cơ sở báo cáo thẩm tra an toàn giao thông của tổ chức tư vấn thẩm tra an toàn giao thông.', 'article_uuid': '8c42c2de-27f2-49c5-ac2d-fd0264f31d65', 'khoan': 'khoản 1', 'dieu': 'Điều 32. Thẩm tra, thẩm định an toàn giao thông đường bộ', 'chuong': 'Chương V THẨM TRA, THẨM ĐỊNH AN TOÀN GIAO THÔNG ĐƯỜNG BỘ, ĐÀO TẠO THẨM TRA AN TOÀN GIAO THÔNG ĐƯỜNG BỘ', 'luat': 'Nghị định 165/2024/NĐ-CP hướng dẫn Luật Đường bộ và Điều 77 Luật Trật tự an toàn giao thông đường bộ'}, excluded_embed_metadata_keys=[], excluded_llm_metadata_keys=[], relationships={}, text='Điều 32 của Nghị định 165/2024/NĐ-CP quy định về thẩm tra và thẩm định an toàn giao thông đường bộ, nằm trong Chương V của Nghị định này, tập trung vào việc đảm bảo an toàn trong quá trình lập dự án và trước khi đưa công trình vào khai thác. Nội dung điều này nêu rõ trách nhiệm của chủ đầu tư và các cơ quan liên quan trong việc lựa chọn tổ chức thẩm tra, thực hiện thẩm định trên cơ sở báo cáo thẩm tra an toàn giao thông, nhằm nâng cao hiệu quả quản lý và giảm thiểu tai nạn giao thông đường bộ.\\nViệc thẩm tra, thẩm định an toàn giao thông đường bộ thực hiện theo quy định tại Điều 29 Luật Đường bộ, Điều 33, Điều 34 của Nghị định này và các quy định sau: 1. Trong giai đoạn lập dự án đầu tư, thiết kế triển khai sau thiết kế cơ sở, việc thẩm tra, thẩm định an toàn giao thông đường bộ được thực hiện cùng công tác thẩm tra, thẩm định báo cáo nghiên cứu khả thi, thiết kế xây dựng và các quy định sau: a) Chủ đầu tư dự án có trách nhiệm lựa chọn tổ chức kinh doanh dịch vụ thẩm tra an toàn giao thông đủ điều kiện để thực hiện thẩm tra an toàn giao thông trong giai đoạn lập dự án đầu tư, thiết kế triển khai sau thiết kế cơ sở. Trường hợp thuê tư vấn thẩm tra dự án, thiết kế triển khai sau thiết kế cơ sở mà tư vấn thẩm tra dự án, thiết kế có đủ điều kiện năng lực về thẩm tra an toàn giao thông đường bộ thì có thể được lựa chọn để thực hiện thẩm tra an toàn giao thông dự án, thiết kế triển khai sau thiết kế cơ sở. b) Người có thẩm quyền quyết định phê duyệt dự án đầu tư, duyệt thiết kế thực hiện thẩm định an toàn giao thông trên cơ sở báo cáo thẩm tra an toàn giao thông của tổ chức tư vấn thẩm tra an toàn giao thông cùng với công tác thẩm định dự án đầu tư xây dựng công trình đường bộ, thẩm định thiết kế công trình đường bộ triển khai sau thiết kế cơ sở để điều chỉnh, bổ sung các hạng mục liên quan đến an toàn giao thông vào dự án, thiết kế triển khai sau thiết kế cơ sở. Đối với trường hợp dự án đầu tư xây dựng công trình đường bộ do Thủ tướng Chính phủ quyết định phê duyệt dự án đầu tư, Bộ Giao thông vận tải thực hiện thẩm định an toàn giao thông trong giai đoạn lập dự án đầu tư trên cơ sở báo cáo thẩm tra an toàn giao thông của tổ chức tư vấn thẩm tra an toàn giao thông.', mimetype='text/plain', start_char_idx=None, end_char_idx=None, text_template='{metadata_str}\\n\\n{content}', metadata_template='{key}: {value}', metadata_seperator='\\n'), score=0.6601082),\n",
       " NodeWithScore(node=TextNode(id_='62f121e9-9c36-44cb-8478-a2f75d7848c6', embedding=None, metadata={'chapter_uuid': '', 'original_content': 'Việc thẩm định an toàn giao thông của cơ quan có thẩm quyền được thực hiện trên cơ sở báo cáo thẩm tra an toàn giao thông của tổ chức tư vấn thẩm tra an toàn giao thông để phục vụ các hoạt động sau đây: a) Phê duyệt dự án; b) Phê duyệt thiết kế xây dựng triển khai sau thiết kế cơ sở; c) Quyết định đưa công trình vào khai thác đối với công trình xây dựng mới, nâng cấp, cải tạo; d) Tổ chức thực hiện các giải pháp nhằm tăng cường điều kiện bảo đảm giao thông thông suốt, an toàn đối với công trình đang khai thác.', 'article_uuid': '62f121e9-9c36-44cb-8478-a2f75d7848c6', 'khoan': 'khoản 3', 'dieu': 'Điều 29. Thẩm tra, thẩm định an toàn giao thông đường bộ', 'chuong': 'Chương II KẾT CẤU HẠ TẦNG ĐƯỜNG BỘ', 'luat': 'Luật Đường bộ 2024'}, excluded_embed_metadata_keys=[], excluded_llm_metadata_keys=[], relationships={}, text='Bối cảnh: Nội dung trong Điều 29 của Luật Đường bộ 2024 đề cập đến quy trình thẩm tra và thẩm định an toàn giao thông đường bộ, thuộc Chương II về kết cấu hạ tầng đường bộ. Điều này nhằm đảm bảo rằng các công trình đường bộ được thiết kế và khai thác một cách an toàn, góp phần vào việc quản lý hiệu quả hệ thống giao thông đường bộ. Vị trí: Điểm: a,b,c,d, Khoản: 3, Điều: Điều 29.\\nViệc thẩm định an toàn giao thông của cơ quan có thẩm quyền được thực hiện trên cơ sở báo cáo thẩm tra an toàn giao thông của tổ chức tư vấn thẩm tra an toàn giao thông để phục vụ các hoạt động sau đây: a) Phê duyệt dự án; b) Phê duyệt thiết kế xây dựng triển khai sau thiết kế cơ sở; c) Quyết định đưa công trình vào khai thác đối với công trình xây dựng mới, nâng cấp, cải tạo; d) Tổ chức thực hiện các giải pháp nhằm tăng cường điều kiện bảo đảm giao thông thông suốt, an toàn đối với công trình đang khai thác.', mimetype='text/plain', start_char_idx=None, end_char_idx=None, text_template='{metadata_str}\\n\\n{content}', metadata_template='{key}: {value}', metadata_seperator='\\n'), score=0.63633674)]"
      ]
     },
     "execution_count": 8,
     "metadata": {},
     "output_type": "execute_result"
    }
   ],
   "source": [
    "# Test Retrieval:\n",
    "retrieve_top_k_documents('Nếu chủ đầu tư không chọn tổ chức thẩm tra an toàn giao thông đủ điều kiện, thì công trình đường bộ đó có được đưa vào khai thác không?')"
   ]
  },
  {
   "cell_type": "markdown",
   "id": "8ba6cf22",
   "metadata": {},
   "source": [
    "##### MRR Metric Compute:"
   ]
  },
  {
   "cell_type": "code",
   "execution_count": 9,
   "id": "8cd7666b",
   "metadata": {},
   "outputs": [],
   "source": [
    "import json\n",
    "from tqdm import tqdm\n",
    "\n",
    "def compute_mrr_dataset(dataset_json_path: str, output_path: str = \"mrr_results.json\"):\n",
    "    '''\n",
    "    Compute Mean Reciprocal Rank for each retrieved node and save results\n",
    "    Args:\n",
    "        dataset_json_path: path to dataset\n",
    "        output_path: path to save the detailed MRR results\n",
    "    '''\n",
    "    def get_node_uuid(node):\n",
    "        return node.node.metadata['article_uuid']\n",
    "\n",
    "    with open(dataset_json_path, \"r\", encoding=\"utf-8\") as f:\n",
    "        data = json.load(f)\n",
    "\n",
    "    reciprocal_ranks = []\n",
    "    results = []\n",
    "\n",
    "    for item in tqdm(data):\n",
    "        question_id = item.get(\"question_id\")\n",
    "        question = item.get(\"question\")\n",
    "        relevant_node_ids = item.get(\"relevant_node_ids\", [])\n",
    "\n",
    "        retrieved_node_ids = [get_node_uuid(node) for node in retrieve_top_k_documents(question)]\n",
    "\n",
    "        # Tính RR cho từng node\n",
    "        node_rr_list = []\n",
    "        for rank, node_id in enumerate(retrieved_node_ids, start=1):\n",
    "            rr = 1.0 / rank if node_id in relevant_node_ids else 0.0\n",
    "            node_rr_list.append({\n",
    "                \"node_id\": node_id,\n",
    "                \"rank\": rank,\n",
    "                \"reciprocal_rank\": rr\n",
    "            })\n",
    "\n",
    "        # Tính RR chung cho câu hỏi (là RR đầu tiên > 0)\n",
    "        first_hit = next((n for n in node_rr_list if n[\"reciprocal_rank\"] > 0), None)\n",
    "        overall_rr = first_hit[\"reciprocal_rank\"] if first_hit else 0.0\n",
    "        reciprocal_ranks.append(overall_rr)\n",
    "\n",
    "        results.append({\n",
    "            \"question_id\": question_id,\n",
    "            \"question\": question,\n",
    "            \"relevant_node_ids\": relevant_node_ids,\n",
    "            \"retrieved_node_rr\": node_rr_list,\n",
    "            \"reciprocal_rank\": overall_rr\n",
    "        })\n",
    "\n",
    "    # Mean Reciprocal Rank\n",
    "    mrr = sum(reciprocal_ranks) / len(reciprocal_ranks) if reciprocal_ranks else 0.0\n",
    "\n",
    "    # Save results\n",
    "    with open(output_path, \"w\", encoding=\"utf-8\") as out_f:\n",
    "        json.dump({\n",
    "            \"mean_reciprocal_rank\": mrr,\n",
    "            \"details\": results\n",
    "        }, out_f, ensure_ascii=False, indent=2)\n",
    "\n",
    "    return mrr\n"
   ]
  },
  {
   "cell_type": "code",
   "execution_count": null,
   "id": "adbd449a",
   "metadata": {},
   "outputs": [],
   "source": [
    "mrr = compute_mrr_dataset('/workspace/competitions/Sly/RAG_Traffic_Law_experiment/duy/notebook/evaluate/source/query_ref_context_pairs.json')"
   ]
  },
  {
   "cell_type": "code",
   "execution_count": 15,
   "id": "71268d0c",
   "metadata": {},
   "outputs": [],
   "source": [
    "mrr"
   ]
  },
  {
   "cell_type": "code",
   "execution_count": null,
   "id": "04d884bf",
   "metadata": {},
   "outputs": [],
   "source": []
  }
 ],
 "metadata": {
  "kernelspec": {
   "display_name": "traffic_law",
   "language": "python",
   "name": "python3"
  },
  "language_info": {
   "codemirror_mode": {
    "name": "ipython",
    "version": 3
   },
   "file_extension": ".py",
   "mimetype": "text/x-python",
   "name": "python",
   "nbconvert_exporter": "python",
   "pygments_lexer": "ipython3",
   "version": "3.9.21"
  }
 },
 "nbformat": 4,
 "nbformat_minor": 5
}
